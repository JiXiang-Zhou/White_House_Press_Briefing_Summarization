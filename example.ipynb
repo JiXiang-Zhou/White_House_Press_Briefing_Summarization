{
 "cells": [
  {
   "cell_type": "code",
   "execution_count": 17,
   "metadata": {},
   "outputs": [],
   "source": [
    "from model import *"
   ]
  },
  {
   "cell_type": "code",
   "execution_count": 10,
   "metadata": {},
   "outputs": [],
   "source": [
    "link = 'https://www.whitehouse.gov/briefing-room/press-briefings/2021/05/07/press-briefing-by-press-secretary-jen-psaki-and-secretary-of-the-treasury-janet-yellen-may-7-2021/'"
   ]
  },
  {
   "cell_type": "code",
   "execution_count": 13,
   "metadata": {},
   "outputs": [],
   "source": [
    "this_drill = press_briefing_summarizer(link)"
   ]
  },
  {
   "cell_type": "code",
   "execution_count": 14,
   "metadata": {},
   "outputs": [],
   "source": [
    "this_drill.preprocessing()"
   ]
  },
  {
   "cell_type": "code",
   "execution_count": 15,
   "metadata": {},
   "outputs": [
    {
     "name": "stderr",
     "output_type": "stream",
     "text": [
      "/Users/johnchou/Downloads/Speech Analysis/Search_word_key_word_similarity.py:30: UserWarning: [W008] Evaluating Token.similarity based on empty vectors.\n",
      "  similarity_val = keyword_token.similarity(search_word_token)\n"
     ]
    }
   ],
   "source": [
    "this_drill.keyword_search('economy')"
   ]
  },
  {
   "cell_type": "code",
   "execution_count": 16,
   "metadata": {},
   "outputs": [
    {
     "name": "stdout",
     "output_type": "stream",
     "text": [
      "Okay, so good afternoon and happy “Jobs Day.” In 1994, President Bill Clinton appointed Dr. Yellen to the Federal Reserve Board of Governors. And in 2010, President Obama appointed her Vice Chair of the Federal Reserve before nominating her to succeed Fed Chair Ben Bernanke as the nation’s top central banker. And again, thank you, Secretary Yellen, for joining us. Our solution was the American Rescue Plan, which the President signed back in March. That’s why the legislation provided lasting support rather than just a few months of relief. After all, one year ago, we learned we’d lost over 20 million jobs in one single month. As you know, the topline unemployment rate you see doesn’t include the many millions of Americans who were not seeking work, and progress here is critical. Male labor force participation has fared even worse. A smaller percentage of men are working now than at any point in the last 70 years. So, first of all, I’d note that the jobs report is a little bit stronger than the headline numbers might suggest on the hiring front. So caregiving responsibilities and absence of childcare are still important reasons why people are unable to return to work. And in fact, what you see is the exact opposite. There was a loss of jobs there this month. There were setbacks in the lumber industry because of shortages there. But I really don’t think the major factor is the extra unemployment. You know, there are often quite large revisions to months as well. There is data — two days before this, the ADP data that suggested over 700,000 jobs would be created, unemployment insurance claims had gone down. The stimulus checks getting out there stimulated a surge in spending. We’re seeing services begin to pick up from very low levels. And I — I absolutely expect to see continued progress in the (inaudible) probably bumpy. And in areas where you do see some pickup — for example, this month, in services, there was a pickup in wages — but still, that’s an area where wages actually fell at the beginning of the pandemic. And, you know, we’re seeing a revival not back yet up to normal levels. In order to receive any kind of unemployment benefit, claimants must be able, available, and actively seeking work. But, you know, our view is that these benefits continue to provide necessary assistance to families, to people who are out of work to address what remains a challenging point in our economy. And there’s no question — by data, by economic standards, by economic experts’ standards — that the money that has been put into the economy — the $1,400 checks and the stimulus — has helped put people back to work.\n"
     ]
    }
   ],
   "source": [
    "this_drill.Summary()"
   ]
  }
 ],
 "metadata": {
  "kernelspec": {
   "display_name": "Python 3",
   "language": "python",
   "name": "python3"
  },
  "language_info": {
   "codemirror_mode": {
    "name": "ipython",
    "version": 3
   },
   "file_extension": ".py",
   "mimetype": "text/x-python",
   "name": "python",
   "nbconvert_exporter": "python",
   "pygments_lexer": "ipython3",
   "version": "3.8.5"
  }
 },
 "nbformat": 4,
 "nbformat_minor": 4
}
